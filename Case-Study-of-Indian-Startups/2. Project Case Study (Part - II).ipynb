{
 "cells": [
  {
   "cell_type": "markdown",
   "metadata": {},
   "source": [
    "# Case Study : Questions"
   ]
  },
  {
   "cell_type": "code",
   "execution_count": 1,
   "metadata": {},
   "outputs": [],
   "source": [
    "import numpy as np\n",
    "import pandas as pd\n",
    "import matplotlib.pyplot as plt"
   ]
  },
  {
   "cell_type": "markdown",
   "metadata": {},
   "source": [
    "### Your Friend has developed the Product and he wants to establish the product startup and he is searching for a perfect location where getting the investment has a high chance. But due to its financial restriction, he can choose only between three locations -  Bangalore, Mumbai, and NCR. As a friend, you want to help your friend deciding the location. NCR include Gurgaon, Noida and New Delhi. Find the location where the most number of funding is done. That means, find the location where startups has received funding maximum number of times. Plot the bar graph between location and number of funding. Take city name \"Delhi\" as \"New Delhi\". Check the case-sensitiveness of cities also. That means, at some place instead of \"Bangalore\", \"bangalore\" is given. Take city name as \"Bangalore\". For few startups multiple locations are given, one Indian and one Foreign. Consider the startup if any one of the city lies in given locations."
   ]
  },
  {
   "cell_type": "markdown",
   "metadata": {},
   "source": [
    "#### Explaination:-So in this we will firstly correct the cities Location and then we will find the frequency of the cities occurring in the data frame which in turn gives us the cities which received funding maximum number of times.Now we will store the count of funding numbers of Bangalore, Mumbai, NCR (Gurgaon, Noida and New Delhi)."
   ]
  },
  {
   "cell_type": "code",
   "execution_count": 2,
   "metadata": {},
   "outputs": [
    {
     "data": {
      "image/png": "[encoded data removed]",
      "text/plain": [
       "<Figure size 432x288 with 1 Axes>"
      ]
     },
     "metadata": {
      "needs_background": "light"
     },
     "output_type": "display_data"
    },
    {
     "name": "stdout",
     "output_type": "stream",
     "text": [
      "Bangalore 635\n",
      "Mumbai 449\n",
      "New Delhi 389\n",
      "Gurgaon 241\n",
      "Noida 79\n"
     ]
    }
   ],
   "source": [
    "def f(s):\n",
    "    return s.split('/')[0].strip()\n",
    "#reading csvfile\n",
    "df=pd.read_csv(\"Datasets/startup_funding.csv\")\n",
    "\n",
    "#droping nan values from citylocation\n",
    "df[\"CityLocation\"].dropna(inplace = True)\n",
    "\n",
    "#seperating the cities and keeping the indian city\n",
    "df[\"CityLocation\"]=df[\"CityLocation\"].apply(f)\n",
    "\n",
    "#Replacing the Delhi to NewDelhi and bangalore to Bangalore as the question demand\n",
    "df.replace(\"Delhi\",\"New Delhi\",inplace=True)\n",
    "df.replace(\"bangalore\",\"Bangalore\",inplace=True)\n",
    "\n",
    "# Counting the frequency cities which inturn gives the number of funding rounds and arranging it in descending order\n",
    "z=df[\"CityLocation\"].value_counts().sort_values(ascending=False)\n",
    "cities=z.index\n",
    "fundingnumbers=z.values\n",
    "\n",
    "# Extracting the 5 cities in li which are needed\n",
    "li=[]\n",
    "for i in range(len(cities)):\n",
    "    if (cities[i]==\"Bangalore\")or(cities[i]==\"Mumbai\")or(cities[i]==\"Gurgaon\")or(cities[i]==\"Noida\")or(cities[i]==\"New Delhi\"):\n",
    "        li.append([cities[i],fundingnumbers[i]])\n",
    "data=np.array(li)\n",
    "\n",
    "# seperating the cities and funding rounds to arrays for making graphs\n",
    "cities=data[:,0]\n",
    "fundingnumbers=np.array(data[:,1],dtype=int)\n",
    "\n",
    "# making bar graph\n",
    "plt.bar(cities,fundingnumbers)\n",
    "plt.xlabel(\"Location \")\n",
    "plt.ylabel(\"Number of Fundings\")\n",
    "plt.title(\"Location  vs Number of Fundings\")\n",
    "plt.show()\n",
    "\n",
    "# printing the cities with the funding Rounds\n",
    "for i in range(len(cities)):\n",
    "    print(cities[i],fundingnumbers[i])"
   ]
  },
  {
   "cell_type": "markdown",
   "metadata": {},
   "source": [
    "### Even after trying for so many times, your friend’s startup could not find the investment. So you decided to take this matter in your hand and try to find the list of investors who probably can invest in your friend’s startup. Your list will increase the chance of your friend startup getting some initial investment by contacting these investors. Find the top 5 investors who have invested maximum number of times (consider repeat investments in one company also). In a startup, multiple investors might have invested. So consider each investor for that startup. Ignore undisclosed investors."
   ]
  },
  {
   "cell_type": "markdown",
   "metadata": {},
   "source": [
    "#### Explaination:- So in this we will firstly drop the nan values from the Investor Name column and then we will make a dictionary which stores the investor name and the count of how many times the investor has invested. From the dictionary we will store the data in an array and will sort the array on the basis of the count in descending order and then we will extract the first 5 investor names which will be the top 5 investors"
   ]
  },
  {
   "cell_type": "code",
   "execution_count": 3,
   "metadata": {},
   "outputs": [
    {
     "name": "stdout",
     "output_type": "stream",
     "text": [
      "64 Sequoia Capital\n",
      "53 Accel Partners\n",
      "44 Kalaari Capital\n",
      "41 SAIF Partners\n",
      "40 Indian Angel Network\n"
     ]
    }
   ],
   "source": [
    "# making dictionary of investors and and the number of times the investor has invested in the companies\n",
    "def makedict(array):\n",
    "    d={}\n",
    "    for string in array:\n",
    "        li=string.strip().split(',')\n",
    "        for i in li:\n",
    "            z=i.strip()\n",
    "            d[z]=d.get(z,0)+1\n",
    "    return d\n",
    "\n",
    "# reading the file\n",
    "df=pd.read_csv(\"Datasets/startup_funding.csv\")\n",
    "\n",
    "# droping nan values from investorname\n",
    "df[\"InvestorsName\"].dropna(inplace=True)\n",
    "\n",
    "# making dictionary of investors and and the number of times the investor has invested in the companies\n",
    "dictionary=makedict(df[\"InvestorsName\"].values)\n",
    "\n",
    "# making the data in the form of list\n",
    "data=[]\n",
    "z=list(dictionary.values())\n",
    "y=list(dictionary.keys())\n",
    "for i in range(len(z)):\n",
    "    data.append([z[i],y[i]])\n",
    "    \n",
    "# sorting the data on the basis of values of dictionary\n",
    "data.sort(reverse=True)\n",
    "\n",
    "# storing top5 investors and the number of times invested\n",
    "top5investors=data[:5]\n",
    "\n",
    "# print top5 investors and the number of invested\n",
    "for row in top5investors:\n",
    "    print(row[0],row[1])"
   ]
  },
  {
   "cell_type": "markdown",
   "metadata": {},
   "source": [
    "### After re-analysing the dataset you found out that some investors have invested in the same startup at different number of funding rounds. So before finalising the previous list, you want to improvise it by finding the top 5 investors who have invested in different number of startups. This list will be more helpful than your previous list in finding the investment for your friend startup. Find the top 5 investors who have invested maximum number of times in different companies. That means, if one investor has invested multiple times in one startup, count one for that company. There are many errors in startup names. Ignore correcting all, just handle the important ones - Ola, Flipkart, Oyo and Paytm."
   ]
  },
  {
   "cell_type": "markdown",
   "metadata": {},
   "source": [
    "#### Explaination:- So in this firstly we will fill the nan values of Investor name with “0” and then we will correct the StartupNames. Then we will make a dictionary so that no investor name and the startup name is repeated and by ignoring the undisclosed investors. We will store the investor name as the key and the count of number of fundings done by him/her in different startups as the values. From the dictionary we will store the data in an array and will sort the array on the basis of the count in descending order and then we will extract the first 5 investor names which will be the top 5 investors "
   ]
  },
  {
   "cell_type": "code",
   "execution_count": 5,
   "metadata": {},
   "outputs": [
    {
     "name": "stdout",
     "output_type": "stream",
     "text": [
      "48 Sequoia Capital\n",
      "47 Accel Partners\n",
      "41 Kalaari Capital\n",
      "40 Indian Angel Network\n",
      "36 Blume Ventures\n"
     ]
    }
   ],
   "source": [
    "# making a dictionary of the count of investments an investor has done in different startups\n",
    "def makeDictionary(startup,inverstors):\n",
    "    d={}\n",
    "    li=[]\n",
    "    for i in range(len(startup)):\n",
    "        investor=inverstors[i].split(\",\")\n",
    "        for j in investor:\n",
    "            if j==\"0\" or j==\"\" or j==\"Undisclosed Investors\" or j==\"Undisclosed investors\":\n",
    "                continue\n",
    "            j=j.strip()\n",
    "            if (startup[i],j) in li:\n",
    "                pass\n",
    "            else:\n",
    "                d[j]=d.get(j,0)+1\n",
    "                li.append((startup[i],j))\n",
    "    return d\n",
    "        \n",
    "# Reading csvfile\n",
    "df=pd.read_csv(\"Datasets/startup_funding.csv\")\n",
    "\n",
    "# Replacing the nan values of investorsName with \"0\" \n",
    "df[\"InvestorsName\"].fillna(\"0\",inplace=True)\n",
    "\n",
    "# Checking for the startupnames which are to be corrected\n",
    "#s=set()\n",
    "#for i in df[\"StartupName\"]:\n",
    "#    d=i.lower()\n",
    "#    if ('ola' in d)or('flipkart' in d)or('oyo' in d)or('paytm' in d):\n",
    "#        s.add(i)\n",
    "#print(s)\n",
    "\n",
    "# Correcting the startup Names\n",
    "df[\"StartupName\"].replace(\"Olacabs\",\"Ola\",inplace=True)\n",
    "df[\"StartupName\"].replace(\"Ola Cabs\",\"Ola\",inplace=True)\n",
    "df[\"StartupName\"].replace(\"Oyorooms\",\"Oyo\",inplace=True)\n",
    "df[\"StartupName\"].replace(\"OyoRooms\",\"Oyo\",inplace=True)\n",
    "df[\"StartupName\"].replace(\"Oyo Rooms\",\"Oyo\",inplace=True)\n",
    "df[\"StartupName\"].replace(\"Paytm Marketplace\",\"Paytm\",inplace=True)\n",
    "df[\"StartupName\"].replace(\"OYO Rooms\",\"Oyo\",inplace=True)\n",
    "df[\"StartupName\"].replace(\"Flipkart.com\",\"Flipkart\",inplace=True)\n",
    "\n",
    "# making a dictionary of the count of investments an investor has done in different startups\n",
    "dictionary=makeDictionary(df[\"StartupName\"].values,df[\"InvestorsName\"].values)\n",
    "\n",
    "# making the data in the form of list\n",
    "data=[]\n",
    "z=list(dictionary.values())\n",
    "y=list(dictionary.keys())\n",
    "for i in range(len(z)):\n",
    "    data.append([z[i],y[i]])\n",
    "    \n",
    "# sorting the data on the basis of values of dictionary\n",
    "data.sort(reverse=True)\n",
    "\n",
    "# storing top5 investors and the number of times invested\n",
    "top5investors=data[:5]\n",
    "\n",
    "# print top5 investors and the number of invested\n",
    "for row in top5investors:\n",
    "    print(row[0],row[1])"
   ]
  },
  {
   "cell_type": "markdown",
   "metadata": {},
   "source": [
    "### Even after putting so much effort in finding the probable investors, it didn't turn out to be helpful for your friend. So you went to your investor friend to understand the situation better and your investor friend explained to you about the different Investment Types and their features. This new information will be helpful in finding the right investor. Since your friend startup is at an early stage startup, the best-suited investment type would be - Seed Funding and Crowdfunding. Find the top 5 investors who have invested in a different number of startups and their investment type is Crowdfunding or Seed Funding. Correct spelling of investment types are - \"Private Equity\", \"Seed Funding\", \"Debt Funding\", and \"Crowd Funding\". Keep an eye for any spelling mistake. You can find this by printing unique values from this column. There are many errors in startup names. Ignore correcting all, just handle the important ones - Ola, Flipkart, Oyo and Paytm."
   ]
  },
  {
   "cell_type": "markdown",
   "metadata": {},
   "source": [
    "#### Explaination:- So in this firstly we will fill the nan values of Investor name with “0” and then we will correct the StartupNames and the spelling of investment types. Then we will filter the data whose investment type is Seed Funding or Crowdfunding. Then we will make a dictionary so that no investor name and the startup name is repeated and by ignoring the undisclosed investors. We will store the investor name as the key and the count of number of fundings done by him/her in different startups as the values. From the dictionary we will store the data in an array and will sort the array on the basis of the count in descending order and then we will extract the first 5 investor names which will be the top 5 investors. "
   ]
  },
  {
   "cell_type": "code",
   "execution_count": 6,
   "metadata": {},
   "outputs": [
    {
     "name": "stdout",
     "output_type": "stream",
     "text": [
      "33 Indian Angel Network\n",
      "23 Rajan Anandan\n",
      "16 LetsVenture\n",
      "16 Anupam Mittal\n",
      "14 Kunal Shah\n"
     ]
    }
   ],
   "source": [
    "# making a dictionary of the count of investments an investor has done in different startups\n",
    "def makeDictionary(startup,inverstors):\n",
    "    d={}\n",
    "    li=[]\n",
    "    for i in range(len(startup)):\n",
    "        investor=inverstors[i].split(\",\")\n",
    "        for j in investor:\n",
    "            if j==\"0\" or j==\"\" or j==\"Undisclosed Investors\" or j==\"Undisclosed investors\":\n",
    "                continue\n",
    "            j=j.strip()\n",
    "            if (startup[i],j) in li:\n",
    "                pass\n",
    "            else:\n",
    "                d[j]=d.get(j,0)+1\n",
    "                li.append((startup[i],j))\n",
    "    return d\n",
    "        \n",
    "# Reading csvfile\n",
    "df=pd.read_csv(\"Datasets/startup_funding.csv\")\n",
    "\n",
    "# Replacing the nan values of investorsName with \"0\" \n",
    "df[\"InvestorsName\"].fillna(\"0\",inplace=True)\n",
    "\n",
    "# Checking for the startupnames which are to be corrected\n",
    "#s=set()\n",
    "#for i in df[\"StartupName\"]:\n",
    "#    d=i.lower()\n",
    "#    if ('ola' in d)or('flipkart' in d)or('oyo' in d)or('paytm' in d):\n",
    "#        s.add(i)\n",
    "#print(s)\n",
    "\n",
    "# Correcting the startup Names\n",
    "df[\"StartupName\"].replace(\"Olacabs\",\"Ola\",inplace=True)\n",
    "df[\"StartupName\"].replace(\"Ola Cabs\",\"Ola\",inplace=True)\n",
    "df[\"StartupName\"].replace(\"Oyorooms\",\"Oyo\",inplace=True)\n",
    "df[\"StartupName\"].replace(\"OyoRooms\",\"Oyo\",inplace=True)\n",
    "df[\"StartupName\"].replace(\"Oyo Rooms\",\"Oyo\",inplace=True)\n",
    "df[\"StartupName\"].replace(\"Paytm Marketplace\",\"Paytm\",inplace=True)\n",
    "df[\"StartupName\"].replace(\"OYO Rooms\",\"Oyo\",inplace=True)\n",
    "df[\"StartupName\"].replace(\"Flipkart.com\",\"Flipkart\",inplace=True)\n",
    "\n",
    "#print(df[\"InvestmentType\"].value_counts())\n",
    "df[\"InvestmentType\"].replace(\"SeedFunding\",\"Seed Funding\",inplace=True)\n",
    "df[\"InvestmentType\"].replace(\"PrivateEquity\",\"Private Equity\",inplace=True)\n",
    "df[\"InvestmentType\"].replace(\"Crowd funding\",\"Crowd Funding\",inplace=True)\n",
    "\n",
    "# Extracting DataFrame where InvestmentType is Crowd Funding or Seed Funding\n",
    "df=df[(df[\"InvestmentType\"]==\"Crowd Funding\")|(df[\"InvestmentType\"]==\"Seed Funding\")]\n",
    "\n",
    "# making a dictionary of the count of investments an investor has done in different startups\n",
    "dictionary=makeDictionary(df[\"StartupName\"].values,df[\"InvestorsName\"].values)\n",
    "\n",
    "# making the data in the form of list\n",
    "data=[]\n",
    "z=list(dictionary.values())\n",
    "y=list(dictionary.keys())\n",
    "for i in range(len(z)):\n",
    "    data.append([z[i],y[i]])\n",
    "    \n",
    "# sorting the data on the basis of values of dictionary\n",
    "data.sort(reverse=True)\n",
    "\n",
    "# storing top5 investors and the number of times invested\n",
    "top5investors=data[:5]\n",
    "\n",
    "# print top5 investors and the number of invested\n",
    "for row in top5investors:\n",
    "    print(row[0],row[1])"
   ]
  },
  {
   "cell_type": "markdown",
   "metadata": {},
   "source": [
    "### Due to your immense help, your friend startup successfully got seed funding and it is on the operational mode. Now your friend wants to expand his startup and he is looking for new investors for his startup. Now you again come as a saviour to help your friend and want to create a list of probable new new investors. Before moving forward you remember your investor friend advice that finding the investors by analysing the investment type. Since your friend startup is not in early phase it is in growth stage so the best-suited investment type is Private Equity. Find the top 5 investors who have invested in a different number of startups and their investment type is Private Equity. Correct spelling of investment types are - \"Private Equity\", \"Seed Funding\", \"Debt Funding\", and \"Crowd Funding\". Keep an eye for any spelling mistake. You can find this by printing unique values from this column.There are many errors in startup names. Ignore correcting all, just handle the important ones - Ola, Flipkart, Oyo and Paytm"
   ]
  },
  {
   "cell_type": "markdown",
   "metadata": {},
   "source": [
    "#### Explaination:- So in this firstly we will fill the nan values of Investor name with “0” and then we will correct the StartupNames and the spelling of investment types. Then we will filter the data whose investment type is Private Equity. Then we will make a dictionary so that no investor name and the startup name is repeated and by ignoring the undisclosed investors. We will store the investor name as the key and the count of number of fundings done by him/her in different startups as the values. From the dictionary we will store the data in an array and will sort the array on the basis of the count in descending order and then we will extract the first 5 investor names which will be the top 5 investors. "
   ]
  },
  {
   "cell_type": "code",
   "execution_count": 8,
   "metadata": {},
   "outputs": [
    {
     "name": "stdout",
     "output_type": "stream",
     "text": [
      "45 Sequoia Capital\n",
      "43 Accel Partners\n",
      "35 Kalaari Capital\n",
      "27 Blume Ventures\n",
      "24 SAIF Partners\n"
     ]
    }
   ],
   "source": [
    "# making a dictionary of the count of investments an investor has done in different startups\n",
    "def makeDictionary(startup,inverstors):\n",
    "    d={}\n",
    "    li=[]\n",
    "    for i in range(len(startup)):\n",
    "        investor=inverstors[i].split(\",\")\n",
    "        for j in investor:\n",
    "            if j==\"0\" or j==\"\" or j==\"Undisclosed Investors\" or j==\"Undisclosed investors\":\n",
    "                continue\n",
    "            j=j.strip()\n",
    "            if (startup[i],j) in li:\n",
    "                pass\n",
    "            else:\n",
    "                d[j]=d.get(j,0)+1\n",
    "                li.append((startup[i],j))\n",
    "    return d\n",
    "        \n",
    "# Reading csvfile\n",
    "df=pd.read_csv(\"Datasets/startup_funding.csv\")\n",
    "\n",
    "# Replacing the nan values of investorsName with \"0\" \n",
    "df[\"InvestorsName\"].fillna(\"0\",inplace=True)\n",
    "\n",
    "# Checking for the startupnames which are to be corrected\n",
    "#s=set()\n",
    "#for i in df[\"StartupName\"]:\n",
    "#    d=i.lower()\n",
    "#    if ('ola' in d)or('flipkart' in d)or('oyo' in d)or('paytm' in d):\n",
    "#        s.add(i)\n",
    "#print(s)\n",
    "\n",
    "# Correcting the startup Names\n",
    "df[\"StartupName\"].replace(\"Olacabs\",\"Ola\",inplace=True)\n",
    "df[\"StartupName\"].replace(\"Ola Cabs\",\"Ola\",inplace=True)\n",
    "df[\"StartupName\"].replace(\"Oyorooms\",\"Oyo\",inplace=True)\n",
    "df[\"StartupName\"].replace(\"OyoRooms\",\"Oyo\",inplace=True)\n",
    "df[\"StartupName\"].replace(\"Oyo Rooms\",\"Oyo\",inplace=True)\n",
    "df[\"StartupName\"].replace(\"Paytm Marketplace\",\"Paytm\",inplace=True)\n",
    "df[\"StartupName\"].replace(\"OYO Rooms\",\"Oyo\",inplace=True)\n",
    "df[\"StartupName\"].replace(\"Flipkart.com\",\"Flipkart\",inplace=True)\n",
    "\n",
    "#print(df[\"InvestmentType\"].value_counts())\n",
    "df[\"InvestmentType\"].replace(\"SeedFunding\",\"Seed Funding\",inplace=True)\n",
    "df[\"InvestmentType\"].replace(\"PrivateEquity\",\"Private Equity\",inplace=True)\n",
    "df[\"InvestmentType\"].replace(\"Crowd funding\",\"Crowd Funding\",inplace=True)\n",
    "\n",
    "# Extracting DataFrame where InvestmentType is Private Equity\n",
    "df=df[(df[\"InvestmentType\"]==\"Private Equity\")]\n",
    "\n",
    "# making a dictionary of the count of investments an investor has done in different startups\n",
    "dictionary=makeDictionary(df[\"StartupName\"].values,df[\"InvestorsName\"].values)\n",
    "\n",
    "# making the data in the form of list\n",
    "data=[]\n",
    "z=list(dictionary.values())\n",
    "y=list(dictionary.keys())\n",
    "for i in range(len(z)):\n",
    "    data.append([z[i],y[i]])\n",
    "    \n",
    "# sorting the data on the basis of values of dictionary\n",
    "data.sort(reverse=True)\n",
    "\n",
    "# storing top5 investors and the number of times invested\n",
    "top5investors=data[:5]\n",
    "\n",
    "# print top5 investors and the number of invested\n",
    "for row in top5investors:\n",
    "    print(row[0],row[1])"
   ]
  }
 ],
 "metadata": {
  "kernelspec": {
   "display_name": "Python 3",
   "language": "python",
   "name": "python3"
  },
  "language_info": {
   "codemirror_mode": {
    "name": "ipython",
    "version": 3
   },
   "file_extension": ".py",
   "mimetype": "text/x-python",
   "name": "python",
   "nbconvert_exporter": "python",
   "pygments_lexer": "ipython3",
   "version": "3.7.7"
  }
 },
 "nbformat": 4,
 "nbformat_minor": 4
}
