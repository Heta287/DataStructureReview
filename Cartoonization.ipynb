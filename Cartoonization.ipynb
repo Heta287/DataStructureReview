{
 "cells": [
  {
   "cell_type": "code",
   "execution_count": 30,
   "metadata": {},
   "outputs": [],
   "source": [
    "import cv2 \n",
    "import numpy as np \n",
    "\n",
    "# reading image \n",
    "img = cv2.imread(\"D:\\Files\\Py\\cap.png\", 1) \n",
    "\n",
    "# Edges \n",
    "gray = cv2.cvtColor(img, cv2.COLOR_BGR2GRAY) \n",
    "gray = cv2.medianBlur(gray, 5) \n",
    "edges = cv2.adaptiveThreshold(gray, 255, cv2.ADAPTIVE_THRESH_MEAN_C, \n",
    "\t\t\t\t\t\t\t\t\t\tcv2.THRESH_BINARY, 9, 9) \n",
    "\n",
    "# Cartoonization \n",
    "color = cv2.bilateralFilter(img, 9, 250, 250) \n",
    "cartoon = cv2.bitwise_and(color, color, mask=edges) \n",
    "\n",
    "\n",
    "cv2.imshow(\"Image\", img) \n",
    "cv2.imshow(\"edges\", edges) \n",
    "cv2.imshow(\"Cartoon\", cartoon) \n",
    "cv2.waitKey(0) \n",
    "cv2.destroyAllWindows() \n"
   ]
  },
  {
   "cell_type": "code",
   "execution_count": null,
   "metadata": {},
   "outputs": [],
   "source": [
    "zukakimekakashi"
   ]
  }
 ],
 "metadata": {
  "kernelspec": {
   "display_name": "Python 3",
   "language": "python",
   "name": "python3"
  },
  "language_info": {
   "codemirror_mode": {
    "name": "ipython",
    "version": 3
   },
   "file_extension": ".py",
   "mimetype": "text/x-python",
   "name": "python",
   "nbconvert_exporter": "python",
   "pygments_lexer": "ipython3",
   "version": "3.8.3"
  }
 },
 "nbformat": 4,
 "nbformat_minor": 2
}
